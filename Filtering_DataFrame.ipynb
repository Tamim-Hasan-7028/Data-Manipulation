{
  "nbformat": 4,
  "nbformat_minor": 0,
  "metadata": {
    "colab": {
      "provenance": [],
      "collapsed_sections": []
    },
    "kernelspec": {
      "name": "python3",
      "display_name": "Python 3"
    },
    "language_info": {
      "name": "python"
    }
  },
  "cells": [
    {
      "cell_type": "markdown",
      "source": [
        "# **Inspecting a DataFrame**\n",
        "\n",
        "When you get a new DataFrame to work with, the first thing you need to do is explore it and see what it contains. There are several useful methods and attributes for this.\n",
        "\n",
        "**.head()** returns the first 5 rows as defult (the “head” of the DataFrame).\n",
        "\n",
        "**.info()** shows information on each of the columns, such as the data type and number of missing values.\n",
        "\n",
        "**.shape** returns the number of rows and columns of the DataFrame.\n",
        "\n",
        "**.describe()** calculates a few summary statistics for each column.\n",
        "\n",
        "\n",
        "---\n",
        "\n",
        "\n",
        "# **Parts of a DataFrame**\n",
        "\n",
        "To better understand DataFrame objects, it's useful to know that they consist of three components, stored as attributes:\n",
        "\n",
        "**.values**: A two-dimensional NumPy array of values.\n",
        "\n",
        "**.columns**: An index of columns: the column names.\n",
        "\n",
        "**.index**: An index for the rows: either row numbers or row names."
      ],
      "metadata": {
        "id": "D8p58mYoC-dM"
      }
    },
    {
      "cell_type": "code",
      "source": [
        "import pandas as pd\n",
        "df=pd.read_csv('/content/homelessness.csv',index_col=0)\n"
      ],
      "metadata": {
        "id": "PsLQdhv7EVsM"
      },
      "execution_count": 7,
      "outputs": []
    },
    {
      "cell_type": "code",
      "source": [
        "print(df.head())"
      ],
      "metadata": {
        "colab": {
          "base_uri": "https://localhost:8080/"
        },
        "id": "8L2CUcZAEvlz",
        "outputId": "c7ea4bbb-1719-4bd4-f805-0a36ef34f06f"
      },
      "execution_count": 11,
      "outputs": [
        {
          "output_type": "stream",
          "name": "stdout",
          "text": [
            "               region       state  individuals  family_members  state_pop\n",
            "0  East South Central     Alabama       2570.0           864.0    4887681\n",
            "1             Pacific      Alaska       1434.0           582.0     735139\n",
            "2            Mountain     Arizona       7259.0          2606.0    7158024\n",
            "3  West South Central    Arkansas       2280.0           432.0    3009733\n",
            "4             Pacific  California     109008.0         20964.0   39461588\n"
          ]
        }
      ]
    },
    {
      "cell_type": "code",
      "source": [
        "print(df.info())"
      ],
      "metadata": {
        "colab": {
          "base_uri": "https://localhost:8080/"
        },
        "id": "GvXFXwyNFMOB",
        "outputId": "af43464e-0223-45af-8d43-034bdbc64ca6"
      },
      "execution_count": 12,
      "outputs": [
        {
          "output_type": "stream",
          "name": "stdout",
          "text": [
            "<class 'pandas.core.frame.DataFrame'>\n",
            "Int64Index: 51 entries, 0 to 50\n",
            "Data columns (total 5 columns):\n",
            " #   Column          Non-Null Count  Dtype  \n",
            "---  ------          --------------  -----  \n",
            " 0   region          51 non-null     object \n",
            " 1   state           51 non-null     object \n",
            " 2   individuals     51 non-null     float64\n",
            " 3   family_members  51 non-null     float64\n",
            " 4   state_pop       51 non-null     int64  \n",
            "dtypes: float64(2), int64(1), object(2)\n",
            "memory usage: 2.4+ KB\n",
            "None\n"
          ]
        }
      ]
    },
    {
      "cell_type": "code",
      "source": [
        "print(df.shape)"
      ],
      "metadata": {
        "colab": {
          "base_uri": "https://localhost:8080/"
        },
        "id": "oooUo42dFdaa",
        "outputId": "d6ebe0ca-8778-4e26-88c4-8ecac26eeabe"
      },
      "execution_count": 13,
      "outputs": [
        {
          "output_type": "stream",
          "name": "stdout",
          "text": [
            "(51, 5)\n"
          ]
        }
      ]
    },
    {
      "cell_type": "code",
      "source": [
        "print(df.describe())"
      ],
      "metadata": {
        "colab": {
          "base_uri": "https://localhost:8080/"
        },
        "id": "4LcVJxN2FfBL",
        "outputId": "cb40b04a-c2c8-4b52-f3e7-df227ba6b906"
      },
      "execution_count": 14,
      "outputs": [
        {
          "output_type": "stream",
          "name": "stdout",
          "text": [
            "         individuals  family_members     state_pop\n",
            "count      51.000000       51.000000  5.100000e+01\n",
            "mean     7225.784314     3504.882353  6.405637e+06\n",
            "std     15991.025083     7805.411811  7.327258e+06\n",
            "min       434.000000       75.000000  5.776010e+05\n",
            "25%      1446.500000      592.000000  1.777414e+06\n",
            "50%      3082.000000     1482.000000  4.461153e+06\n",
            "75%      6781.500000     3196.000000  7.340946e+06\n",
            "max    109008.000000    52070.000000  3.946159e+07\n"
          ]
        }
      ]
    },
    {
      "cell_type": "code",
      "source": [
        "print(df.values)"
      ],
      "metadata": {
        "colab": {
          "base_uri": "https://localhost:8080/"
        },
        "id": "q8siH_dNFjsK",
        "outputId": "2150f8f4-c81d-4a36-8ff1-ad4617c6eba1"
      },
      "execution_count": 15,
      "outputs": [
        {
          "output_type": "stream",
          "name": "stdout",
          "text": [
            "[['East South Central' 'Alabama' 2570.0 864.0 4887681]\n",
            " ['Pacific' 'Alaska' 1434.0 582.0 735139]\n",
            " ['Mountain' 'Arizona' 7259.0 2606.0 7158024]\n",
            " ['West South Central' 'Arkansas' 2280.0 432.0 3009733]\n",
            " ['Pacific' 'California' 109008.0 20964.0 39461588]\n",
            " ['Mountain' 'Colorado' 7607.0 3250.0 5691287]\n",
            " ['New England' 'Connecticut' 2280.0 1696.0 3571520]\n",
            " ['South Atlantic' 'Delaware' 708.0 374.0 965479]\n",
            " ['South Atlantic' 'District of Columbia' 3770.0 3134.0 701547]\n",
            " ['South Atlantic' 'Florida' 21443.0 9587.0 21244317]\n",
            " ['South Atlantic' 'Georgia' 6943.0 2556.0 10511131]\n",
            " ['Pacific' 'Hawaii' 4131.0 2399.0 1420593]\n",
            " ['Mountain' 'Idaho' 1297.0 715.0 1750536]\n",
            " ['East North Central' 'Illinois' 6752.0 3891.0 12723071]\n",
            " ['East North Central' 'Indiana' 3776.0 1482.0 6695497]\n",
            " ['West North Central' 'Iowa' 1711.0 1038.0 3148618]\n",
            " ['West North Central' 'Kansas' 1443.0 773.0 2911359]\n",
            " ['East South Central' 'Kentucky' 2735.0 953.0 4461153]\n",
            " ['West South Central' 'Louisiana' 2540.0 519.0 4659690]\n",
            " ['New England' 'Maine' 1450.0 1066.0 1339057]\n",
            " ['South Atlantic' 'Maryland' 4914.0 2230.0 6035802]\n",
            " ['New England' 'Massachusetts' 6811.0 13257.0 6882635]\n",
            " ['East North Central' 'Michigan' 5209.0 3142.0 9984072]\n",
            " ['West North Central' 'Minnesota' 3993.0 3250.0 5606249]\n",
            " ['East South Central' 'Mississippi' 1024.0 328.0 2981020]\n",
            " ['West North Central' 'Missouri' 3776.0 2107.0 6121623]\n",
            " ['Mountain' 'Montana' 983.0 422.0 1060665]\n",
            " ['West North Central' 'Nebraska' 1745.0 676.0 1925614]\n",
            " ['Mountain' 'Nevada' 7058.0 486.0 3027341]\n",
            " ['New England' 'New Hampshire' 835.0 615.0 1353465]\n",
            " ['Mid-Atlantic' 'New Jersey' 6048.0 3350.0 8886025]\n",
            " ['Mountain' 'New Mexico' 1949.0 602.0 2092741]\n",
            " ['Mid-Atlantic' 'New York' 39827.0 52070.0 19530351]\n",
            " ['South Atlantic' 'North Carolina' 6451.0 2817.0 10381615]\n",
            " ['West North Central' 'North Dakota' 467.0 75.0 758080]\n",
            " ['East North Central' 'Ohio' 6929.0 3320.0 11676341]\n",
            " ['West South Central' 'Oklahoma' 2823.0 1048.0 3940235]\n",
            " ['Pacific' 'Oregon' 11139.0 3337.0 4181886]\n",
            " ['Mid-Atlantic' 'Pennsylvania' 8163.0 5349.0 12800922]\n",
            " ['New England' 'Rhode Island' 747.0 354.0 1058287]\n",
            " ['South Atlantic' 'South Carolina' 3082.0 851.0 5084156]\n",
            " ['West North Central' 'South Dakota' 836.0 323.0 878698]\n",
            " ['East South Central' 'Tennessee' 6139.0 1744.0 6771631]\n",
            " ['West South Central' 'Texas' 19199.0 6111.0 28628666]\n",
            " ['Mountain' 'Utah' 1904.0 972.0 3153550]\n",
            " ['New England' 'Vermont' 780.0 511.0 624358]\n",
            " ['South Atlantic' 'Virginia' 3928.0 2047.0 8501286]\n",
            " ['Pacific' 'Washington' 16424.0 5880.0 7523869]\n",
            " ['South Atlantic' 'West Virginia' 1021.0 222.0 1804291]\n",
            " ['East North Central' 'Wisconsin' 2740.0 2167.0 5807406]\n",
            " ['Mountain' 'Wyoming' 434.0 205.0 577601]]\n"
          ]
        }
      ]
    },
    {
      "cell_type": "code",
      "source": [
        "print(df.columns)"
      ],
      "metadata": {
        "colab": {
          "base_uri": "https://localhost:8080/"
        },
        "id": "-LO5y6orFx8p",
        "outputId": "815afbe7-83f5-4d71-b07f-d44a0458020b"
      },
      "execution_count": 17,
      "outputs": [
        {
          "output_type": "stream",
          "name": "stdout",
          "text": [
            "Index(['region', 'state', 'individuals', 'family_members', 'state_pop'], dtype='object')\n"
          ]
        }
      ]
    },
    {
      "cell_type": "code",
      "source": [
        "print(df.index)"
      ],
      "metadata": {
        "colab": {
          "base_uri": "https://localhost:8080/"
        },
        "id": "Vh-T8vsGF6G9",
        "outputId": "4ca742bc-a206-4da4-e0e1-66ed25ba26de"
      },
      "execution_count": 18,
      "outputs": [
        {
          "output_type": "stream",
          "name": "stdout",
          "text": [
            "Int64Index([ 0,  1,  2,  3,  4,  5,  6,  7,  8,  9, 10, 11, 12, 13, 14, 15, 16,\n",
            "            17, 18, 19, 20, 21, 22, 23, 24, 25, 26, 27, 28, 29, 30, 31, 32, 33,\n",
            "            34, 35, 36, 37, 38, 39, 40, 41, 42, 43, 44, 45, 46, 47, 48, 49,\n",
            "            50],\n",
            "           dtype='int64')\n"
          ]
        }
      ]
    },
    {
      "cell_type": "markdown",
      "source": [
        "# **Sorting rows**\n",
        "\n",
        "\n",
        "---\n",
        "\n",
        "\n",
        "Finding interesting bits of data in a DataFrame is often easier if you change the order of the rows. You can sort the rows by passing a column name to\n",
        "\n",
        "\n",
        "**.sort_values().**\n",
        "\n",
        "In cases where rows have the same value (this is common if you sort on a categorical variable), you may wish to break the ties by sorting on another column. You can sort on multiple columns in this way by passing a list of column names.\n",
        "\n",
        "\n",
        "one column:\t`df.sort_values(\"breed\")`\n",
        "\n",
        "multiple columns:\t`df.sort_values([\"breed\", \"weight_kg\"])`\n",
        "\n",
        "\n",
        "By combining **.sort_values()** with .head(), you can answer questions in the form, \"What are the top cases where…?\".\n",
        "\n",
        "By defult, .sort_values() shows us ascending order."
      ],
      "metadata": {
        "id": "0j0FXqTuGPuG"
      }
    },
    {
      "cell_type": "code",
      "source": [
        "# Sort df by individuals\n",
        "df_ind=df.sort_values('individuals')\n",
        "print(df_ind.head())"
      ],
      "metadata": {
        "colab": {
          "base_uri": "https://localhost:8080/"
        },
        "id": "i83zZ_wEF_8o",
        "outputId": "dbd76890-7650-4a99-f0ed-97f3004f4286"
      },
      "execution_count": 19,
      "outputs": [
        {
          "output_type": "stream",
          "name": "stdout",
          "text": [
            "                region         state  individuals  family_members  state_pop\n",
            "50            Mountain       Wyoming        434.0           205.0     577601\n",
            "34  West North Central  North Dakota        467.0            75.0     758080\n",
            "7       South Atlantic      Delaware        708.0           374.0     965479\n",
            "39         New England  Rhode Island        747.0           354.0    1058287\n",
            "45         New England       Vermont        780.0           511.0     624358\n"
          ]
        }
      ]
    },
    {
      "cell_type": "code",
      "source": [
        "# Sort df by descending family members\n",
        "df_fam=df.sort_values('family_members', ascending=False)\n",
        "print(df_fam.head())"
      ],
      "metadata": {
        "colab": {
          "base_uri": "https://localhost:8080/"
        },
        "id": "wyxJHLNvInOs",
        "outputId": "c6f494da-00c5-4d15-f563-bfc49c8b19e9"
      },
      "execution_count": 21,
      "outputs": [
        {
          "output_type": "stream",
          "name": "stdout",
          "text": [
            "                region          state  individuals  family_members  state_pop\n",
            "32        Mid-Atlantic       New York      39827.0         52070.0   19530351\n",
            "4              Pacific     California     109008.0         20964.0   39461588\n",
            "21         New England  Massachusetts       6811.0         13257.0    6882635\n",
            "9       South Atlantic        Florida      21443.0          9587.0   21244317\n",
            "43  West South Central          Texas      19199.0          6111.0   28628666\n"
          ]
        }
      ]
    },
    {
      "cell_type": "code",
      "source": [
        "# Sort df by region, then descending family members\n",
        "df_r_f=df.sort_values(['region','family_members'],ascending=[True,False])\n",
        "print(df_r_f)"
      ],
      "metadata": {
        "colab": {
          "base_uri": "https://localhost:8080/"
        },
        "id": "hz6EgZU6JZqS",
        "outputId": "4ad402a8-1ee7-4255-c37f-44c1a9218b0b"
      },
      "execution_count": 24,
      "outputs": [
        {
          "output_type": "stream",
          "name": "stdout",
          "text": [
            "                region                 state  individuals  family_members  \\\n",
            "13  East North Central              Illinois       6752.0          3891.0   \n",
            "35  East North Central                  Ohio       6929.0          3320.0   \n",
            "22  East North Central              Michigan       5209.0          3142.0   \n",
            "49  East North Central             Wisconsin       2740.0          2167.0   \n",
            "14  East North Central               Indiana       3776.0          1482.0   \n",
            "42  East South Central             Tennessee       6139.0          1744.0   \n",
            "17  East South Central              Kentucky       2735.0           953.0   \n",
            "0   East South Central               Alabama       2570.0           864.0   \n",
            "24  East South Central           Mississippi       1024.0           328.0   \n",
            "32        Mid-Atlantic              New York      39827.0         52070.0   \n",
            "38        Mid-Atlantic          Pennsylvania       8163.0          5349.0   \n",
            "30        Mid-Atlantic            New Jersey       6048.0          3350.0   \n",
            "5             Mountain              Colorado       7607.0          3250.0   \n",
            "2             Mountain               Arizona       7259.0          2606.0   \n",
            "44            Mountain                  Utah       1904.0           972.0   \n",
            "12            Mountain                 Idaho       1297.0           715.0   \n",
            "31            Mountain            New Mexico       1949.0           602.0   \n",
            "28            Mountain                Nevada       7058.0           486.0   \n",
            "26            Mountain               Montana        983.0           422.0   \n",
            "50            Mountain               Wyoming        434.0           205.0   \n",
            "21         New England         Massachusetts       6811.0         13257.0   \n",
            "6          New England           Connecticut       2280.0          1696.0   \n",
            "19         New England                 Maine       1450.0          1066.0   \n",
            "29         New England         New Hampshire        835.0           615.0   \n",
            "45         New England               Vermont        780.0           511.0   \n",
            "39         New England          Rhode Island        747.0           354.0   \n",
            "4              Pacific            California     109008.0         20964.0   \n",
            "47             Pacific            Washington      16424.0          5880.0   \n",
            "37             Pacific                Oregon      11139.0          3337.0   \n",
            "11             Pacific                Hawaii       4131.0          2399.0   \n",
            "1              Pacific                Alaska       1434.0           582.0   \n",
            "9       South Atlantic               Florida      21443.0          9587.0   \n",
            "8       South Atlantic  District of Columbia       3770.0          3134.0   \n",
            "33      South Atlantic        North Carolina       6451.0          2817.0   \n",
            "10      South Atlantic               Georgia       6943.0          2556.0   \n",
            "20      South Atlantic              Maryland       4914.0          2230.0   \n",
            "46      South Atlantic              Virginia       3928.0          2047.0   \n",
            "40      South Atlantic        South Carolina       3082.0           851.0   \n",
            "7       South Atlantic              Delaware        708.0           374.0   \n",
            "48      South Atlantic         West Virginia       1021.0           222.0   \n",
            "23  West North Central             Minnesota       3993.0          3250.0   \n",
            "25  West North Central              Missouri       3776.0          2107.0   \n",
            "15  West North Central                  Iowa       1711.0          1038.0   \n",
            "16  West North Central                Kansas       1443.0           773.0   \n",
            "27  West North Central              Nebraska       1745.0           676.0   \n",
            "41  West North Central          South Dakota        836.0           323.0   \n",
            "34  West North Central          North Dakota        467.0            75.0   \n",
            "43  West South Central                 Texas      19199.0          6111.0   \n",
            "36  West South Central              Oklahoma       2823.0          1048.0   \n",
            "18  West South Central             Louisiana       2540.0           519.0   \n",
            "3   West South Central              Arkansas       2280.0           432.0   \n",
            "\n",
            "    state_pop  \n",
            "13   12723071  \n",
            "35   11676341  \n",
            "22    9984072  \n",
            "49    5807406  \n",
            "14    6695497  \n",
            "42    6771631  \n",
            "17    4461153  \n",
            "0     4887681  \n",
            "24    2981020  \n",
            "32   19530351  \n",
            "38   12800922  \n",
            "30    8886025  \n",
            "5     5691287  \n",
            "2     7158024  \n",
            "44    3153550  \n",
            "12    1750536  \n",
            "31    2092741  \n",
            "28    3027341  \n",
            "26    1060665  \n",
            "50     577601  \n",
            "21    6882635  \n",
            "6     3571520  \n",
            "19    1339057  \n",
            "29    1353465  \n",
            "45     624358  \n",
            "39    1058287  \n",
            "4    39461588  \n",
            "47    7523869  \n",
            "37    4181886  \n",
            "11    1420593  \n",
            "1      735139  \n",
            "9    21244317  \n",
            "8      701547  \n",
            "33   10381615  \n",
            "10   10511131  \n",
            "20    6035802  \n",
            "46    8501286  \n",
            "40    5084156  \n",
            "7      965479  \n",
            "48    1804291  \n",
            "23    5606249  \n",
            "25    6121623  \n",
            "15    3148618  \n",
            "16    2911359  \n",
            "27    1925614  \n",
            "41     878698  \n",
            "34     758080  \n",
            "43   28628666  \n",
            "36    3940235  \n",
            "18    4659690  \n",
            "3     3009733  \n"
          ]
        }
      ]
    },
    {
      "cell_type": "markdown",
      "source": [
        "# **Subsetting columns**\n",
        "\n",
        "\n",
        "---\n",
        "\n",
        "\n",
        "When working with data, you may not need all of the variables in your dataset. Square brackets [ ] can be used to select only the columns that matter to you in an order that makes sense to you. \n",
        "\n",
        "To select only \"col_a\" of the DataFrame df, use\n",
        "\n",
        "`df[\"col_a\"]`\n",
        "\n",
        "To select \"col_a\" and \"col_b\" of df, use\n",
        "\n",
        "`df[[\"col_a\", \"col_b\"]]`"
      ],
      "metadata": {
        "id": "ZYLguztkKk29"
      }
    },
    {
      "cell_type": "code",
      "source": [
        "# Select only the individuals and state columns, in that order\n",
        "print(df[['individuals','state_pop']].head())"
      ],
      "metadata": {
        "colab": {
          "base_uri": "https://localhost:8080/"
        },
        "id": "w-0Q3IkQKELo",
        "outputId": "35395005-d59b-4de0-cc91-866c315122bd"
      },
      "execution_count": 27,
      "outputs": [
        {
          "output_type": "stream",
          "name": "stdout",
          "text": [
            "   individuals  state_pop\n",
            "0       2570.0    4887681\n",
            "1       1434.0     735139\n",
            "2       7259.0    7158024\n",
            "3       2280.0    3009733\n",
            "4     109008.0   39461588\n"
          ]
        }
      ]
    },
    {
      "cell_type": "code",
      "source": [
        "# Select the individuals column\n",
        "print(df[['individuals']].head())"
      ],
      "metadata": {
        "colab": {
          "base_uri": "https://localhost:8080/"
        },
        "id": "bPTVMUTTLi0L",
        "outputId": "82695c92-0d48-4713-ca88-33e525c2d7cb"
      },
      "execution_count": 29,
      "outputs": [
        {
          "output_type": "stream",
          "name": "stdout",
          "text": [
            "   individuals\n",
            "0       2570.0\n",
            "1       1434.0\n",
            "2       7259.0\n",
            "3       2280.0\n",
            "4     109008.0\n"
          ]
        }
      ]
    },
    {
      "cell_type": "markdown",
      "source": [
        "# **Subsetting rows**\n",
        "\n",
        "\n",
        "---\n",
        "\n",
        "\n",
        "\n",
        "\n",
        "A large part of data science is about finding which bits of your dataset are interesting. One of the simplest techniques for this is to find a subset of rows that match some criteria. This is sometimes known as filtering rows or selecting rows.\n",
        "\n",
        "There are many ways to subset a DataFrame, perhaps the most common is, first, we have subset a column in pandas series. Then we have to put the series as an index value in df.\n",
        "\n",
        "\n",
        "\n",
        "```\n",
        "series=df['value']\n",
        "\n",
        "print(df[series]) or print(df[df['value'])\n",
        "```\n",
        "\n",
        "\n",
        "\n",
        "we can also put conditions inside [ ]\n",
        "\n",
        "ex: print(df[series]==400)\n",
        "\n",
        "Suppose, we have dogs dataframe, where height_cm & color are columns.\n",
        " \n",
        "```\n",
        " dogs[dogs[\"height_cm\"] > 60]\n",
        "\n",
        " dogs[dogs[\"color\"] == \"tan\"]\n",
        "```\n",
        "\n",
        "\n",
        "You can filter for multiple conditions at once by using the \"bitwise and\" operator '&' and 'bitwise or' operator '|'\n",
        "\n",
        "`dogs[(dogs[\"height_cm\"] > 60) & (dogs[\"color\"] == \"tan\")]`\n",
        "\n",
        "`dogs[(dogs[\"height_cm\"] > 60) | (dogs[\"color\"] == \"tan\")]`\n"
      ],
      "metadata": {
        "id": "5GYhYy4TOCn6"
      }
    },
    {
      "cell_type": "code",
      "source": [
        "# Filter for rows where individuals is greater than 10000\n",
        "print(df[df['individuals']>10000])"
      ],
      "metadata": {
        "colab": {
          "base_uri": "https://localhost:8080/"
        },
        "id": "npFwMr6pMMvL",
        "outputId": "1186c0ca-56cd-426a-ca19-8303ad8ae68a"
      },
      "execution_count": 30,
      "outputs": [
        {
          "output_type": "stream",
          "name": "stdout",
          "text": [
            "                region       state  individuals  family_members  state_pop\n",
            "4              Pacific  California     109008.0         20964.0   39461588\n",
            "9       South Atlantic     Florida      21443.0          9587.0   21244317\n",
            "32        Mid-Atlantic    New York      39827.0         52070.0   19530351\n",
            "37             Pacific      Oregon      11139.0          3337.0    4181886\n",
            "43  West South Central       Texas      19199.0          6111.0   28628666\n",
            "47             Pacific  Washington      16424.0          5880.0    7523869\n"
          ]
        }
      ]
    },
    {
      "cell_type": "code",
      "source": [
        "# Filter for rows where region is Mountain\n",
        "print(df[df['region']=='Mountain'])"
      ],
      "metadata": {
        "colab": {
          "base_uri": "https://localhost:8080/"
        },
        "id": "gBBenZG_Qdfp",
        "outputId": "a779c747-d427-4786-df6f-1ceab9c17797"
      },
      "execution_count": 31,
      "outputs": [
        {
          "output_type": "stream",
          "name": "stdout",
          "text": [
            "      region       state  individuals  family_members  state_pop\n",
            "2   Mountain     Arizona       7259.0          2606.0    7158024\n",
            "5   Mountain    Colorado       7607.0          3250.0    5691287\n",
            "12  Mountain       Idaho       1297.0           715.0    1750536\n",
            "26  Mountain     Montana        983.0           422.0    1060665\n",
            "28  Mountain      Nevada       7058.0           486.0    3027341\n",
            "31  Mountain  New Mexico       1949.0           602.0    2092741\n",
            "44  Mountain        Utah       1904.0           972.0    3153550\n",
            "50  Mountain     Wyoming        434.0           205.0     577601\n"
          ]
        }
      ]
    },
    {
      "cell_type": "code",
      "source": [
        "# Filter for rows where family_members is less than 1000 and region is Pacific\n",
        "print(df[(df['family_members']<1000)&(df['region']=='Pacific')])"
      ],
      "metadata": {
        "colab": {
          "base_uri": "https://localhost:8080/"
        },
        "id": "x1BXeOpWQn4p",
        "outputId": "67afba2a-92c5-4753-84ef-6e643d7cfa4f"
      },
      "execution_count": 32,
      "outputs": [
        {
          "output_type": "stream",
          "name": "stdout",
          "text": [
            "    region   state  individuals  family_members  state_pop\n",
            "1  Pacific  Alaska       1434.0           582.0     735139\n"
          ]
        }
      ]
    },
    {
      "cell_type": "markdown",
      "source": [
        "# **Subsetting rows by categorical variables**\n",
        "\n",
        "\n",
        "---\n",
        "\n",
        "\n",
        "Subsetting data based on a categorical variable often involves using the \"or\" operator (|) to select rows from multiple categories. This can get tedious when you want all states in one of three different regions, (for example, 1st code). \n",
        "\n",
        "Instead, use the **.isin()** method, which will allow you to tackle this problem by writing one condition instead of three separate ones. (for example , 2nd code)\n",
        "\n",
        "in .isin() method, first we have to create a list and then we have to put this list in .isin(list)"
      ],
      "metadata": {
        "id": "0SpOvQfiRvTe"
      }
    },
    {
      "cell_type": "code",
      "source": [
        "#1st code, doing with or operator\n",
        "#Subset for rows of Desert State (Arizona or California or Nevada or Utah state)\n",
        "print(df[(df['state']=='Arizona')|\n",
        "         (df['state']=='California')|\n",
        "         (df['state']=='Nevada')|\n",
        "         (df['state']=='Utah')])"
      ],
      "metadata": {
        "colab": {
          "base_uri": "https://localhost:8080/"
        },
        "id": "B3mH9qZIRDOR",
        "outputId": "fc508c92-3745-4f97-fa55-f6e2cbe6cc35"
      },
      "execution_count": 33,
      "outputs": [
        {
          "output_type": "stream",
          "name": "stdout",
          "text": [
            "      region       state  individuals  family_members  state_pop\n",
            "2   Mountain     Arizona       7259.0          2606.0    7158024\n",
            "4    Pacific  California     109008.0         20964.0   39461588\n",
            "28  Mountain      Nevada       7058.0           486.0    3027341\n",
            "44  Mountain        Utah       1904.0           972.0    3153550\n"
          ]
        }
      ]
    },
    {
      "cell_type": "code",
      "source": [
        "#2nd code, doing with .isin()\n",
        "#Subset for rows of Desert State (Arizona or California or Nevada or Utah state)\n",
        "acnu = [\"Arizona\", \"California\", \"Nevada\", \"Utah\"]\n",
        "print(df[df['state'].isin(acnu)])"
      ],
      "metadata": {
        "colab": {
          "base_uri": "https://localhost:8080/"
        },
        "id": "B89oej_OZtOW",
        "outputId": "e2de354b-e59d-47cb-b86c-31fda1bd89b8"
      },
      "execution_count": 34,
      "outputs": [
        {
          "output_type": "stream",
          "name": "stdout",
          "text": [
            "      region       state  individuals  family_members  state_pop\n",
            "2   Mountain     Arizona       7259.0          2606.0    7158024\n",
            "4    Pacific  California     109008.0         20964.0   39461588\n",
            "28  Mountain      Nevada       7058.0           486.0    3027341\n",
            "44  Mountain        Utah       1904.0           972.0    3153550\n"
          ]
        }
      ]
    },
    {
      "cell_type": "markdown",
      "source": [
        "## **Adding new columns**\n",
        "\n",
        "\n",
        "---\n",
        "\n",
        "\n",
        "\n",
        "\n",
        "\n",
        "You aren't stuck with just the data you are given. Instead, you can add new columns to a DataFrame. This has many names, such as transforming, mutating, and feature engineering.\n",
        "\n",
        "You can create new columns from scratch, but it is also common to derive them from other columns, for example, by adding columns together or by changing their units."
      ],
      "metadata": {
        "id": "hj23vHhlbQgA"
      }
    },
    {
      "cell_type": "code",
      "source": [
        "#Add 'total' column as sum of individuals and family_members\n",
        "df['total']=df['individuals']+df['family_members']\n",
        "print(df.head())"
      ],
      "metadata": {
        "colab": {
          "base_uri": "https://localhost:8080/"
        },
        "id": "-p8SvVT0bZkM",
        "outputId": "c2b5b741-2c5e-4cf7-c79a-a8a71349b1cb"
      },
      "execution_count": 35,
      "outputs": [
        {
          "output_type": "stream",
          "name": "stdout",
          "text": [
            "               region       state  individuals  family_members  state_pop  \\\n",
            "0  East South Central     Alabama       2570.0           864.0    4887681   \n",
            "1             Pacific      Alaska       1434.0           582.0     735139   \n",
            "2            Mountain     Arizona       7259.0          2606.0    7158024   \n",
            "3  West South Central    Arkansas       2280.0           432.0    3009733   \n",
            "4             Pacific  California     109008.0         20964.0   39461588   \n",
            "\n",
            "      total  \n",
            "0    3434.0  \n",
            "1    2016.0  \n",
            "2    9865.0  \n",
            "3    2712.0  \n",
            "4  129972.0  \n"
          ]
        }
      ]
    },
    {
      "cell_type": "code",
      "source": [
        "#Add 'p_ind' column as proportion of individuals and total\n",
        "df['p_ind']=df['individuals']/df['total']\n",
        "print(df.head())"
      ],
      "metadata": {
        "colab": {
          "base_uri": "https://localhost:8080/"
        },
        "id": "BucACdDccZrJ",
        "outputId": "65950251-a57c-4f53-b4e2-831a53368491"
      },
      "execution_count": 36,
      "outputs": [
        {
          "output_type": "stream",
          "name": "stdout",
          "text": [
            "               region       state  individuals  family_members  state_pop  \\\n",
            "0  East South Central     Alabama       2570.0           864.0    4887681   \n",
            "1             Pacific      Alaska       1434.0           582.0     735139   \n",
            "2            Mountain     Arizona       7259.0          2606.0    7158024   \n",
            "3  West South Central    Arkansas       2280.0           432.0    3009733   \n",
            "4             Pacific  California     109008.0         20964.0   39461588   \n",
            "\n",
            "      total     p_ind  \n",
            "0    3434.0  0.748398  \n",
            "1    2016.0  0.711310  \n",
            "2    9865.0  0.735834  \n",
            "3    2712.0  0.840708  \n",
            "4  129972.0  0.838704  \n"
          ]
        }
      ]
    },
    {
      "cell_type": "markdown",
      "source": [
        "## Which state has the highest number of homeless individuals per 10,000 people in the state? Print out the 'result'.\n",
        "\n",
        "\n",
        "\n",
        "---\n",
        "\n",
        "\n",
        "\n",
        "\n"
      ],
      "metadata": {
        "id": "r-Igjcc0echl"
      }
    },
    {
      "cell_type": "code",
      "source": [
        "#'ind_10k' column as df 'individuals' per 10k 'state pop'\n",
        "df['ind_10k']=(df['individuals']/df['state_pop'])*10000\n",
        "print(df.head())"
      ],
      "metadata": {
        "colab": {
          "base_uri": "https://localhost:8080/"
        },
        "id": "0fphYqlZdALA",
        "outputId": "d91867ad-bb81-4689-c0af-bcad7bba6b55"
      },
      "execution_count": 37,
      "outputs": [
        {
          "output_type": "stream",
          "name": "stdout",
          "text": [
            "               region       state  individuals  family_members  state_pop  \\\n",
            "0  East South Central     Alabama       2570.0           864.0    4887681   \n",
            "1             Pacific      Alaska       1434.0           582.0     735139   \n",
            "2            Mountain     Arizona       7259.0          2606.0    7158024   \n",
            "3  West South Central    Arkansas       2280.0           432.0    3009733   \n",
            "4             Pacific  California     109008.0         20964.0   39461588   \n",
            "\n",
            "      total     p_ind    ind_10k  \n",
            "0    3434.0  0.748398   5.258117  \n",
            "1    2016.0  0.711310  19.506515  \n",
            "2    9865.0  0.735834  10.141067  \n",
            "3    2712.0  0.840708   7.575423  \n",
            "4  129972.0  0.838704  27.623825  \n"
          ]
        }
      ]
    },
    {
      "cell_type": "code",
      "source": [
        "#Subset rows for 'ind_10k' greater than 20\n",
        "high_ind=df[df['ind_10k']>20]\n",
        "print(high_ind)"
      ],
      "metadata": {
        "colab": {
          "base_uri": "https://localhost:8080/"
        },
        "id": "zoSbaphWf3cK",
        "outputId": "19e25a7d-9f49-453a-fef3-df9c449e88dd"
      },
      "execution_count": 40,
      "outputs": [
        {
          "output_type": "stream",
          "name": "stdout",
          "text": [
            "            region                 state  individuals  family_members  \\\n",
            "4          Pacific            California     109008.0         20964.0   \n",
            "8   South Atlantic  District of Columbia       3770.0          3134.0   \n",
            "11         Pacific                Hawaii       4131.0          2399.0   \n",
            "28        Mountain                Nevada       7058.0           486.0   \n",
            "32    Mid-Atlantic              New York      39827.0         52070.0   \n",
            "37         Pacific                Oregon      11139.0          3337.0   \n",
            "47         Pacific            Washington      16424.0          5880.0   \n",
            "\n",
            "    state_pop     total     p_ind    ind_10k  \n",
            "4    39461588  129972.0  0.838704  27.623825  \n",
            "8      701547    6904.0  0.546060  53.738381  \n",
            "11    1420593    6530.0  0.632619  29.079406  \n",
            "28    3027341    7544.0  0.935578  23.314189  \n",
            "32   19530351   91897.0  0.433387  20.392363  \n",
            "37    4181886   14476.0  0.769481  26.636307  \n",
            "47    7523869   22304.0  0.736370  21.829195  \n"
          ]
        }
      ]
    },
    {
      "cell_type": "code",
      "source": [
        "#Sorting high_ind by descending ind_10k\n",
        "highest_ind=high_ind.sort_values('ind_10k',ascending=False)\n",
        "print(highest_ind)"
      ],
      "metadata": {
        "colab": {
          "base_uri": "https://localhost:8080/"
        },
        "id": "2FG_UfBakJDE",
        "outputId": "06571200-444f-4c7b-f434-479ffbc242e2"
      },
      "execution_count": 42,
      "outputs": [
        {
          "output_type": "stream",
          "name": "stdout",
          "text": [
            "            region                 state  individuals  family_members  \\\n",
            "8   South Atlantic  District of Columbia       3770.0          3134.0   \n",
            "11         Pacific                Hawaii       4131.0          2399.0   \n",
            "4          Pacific            California     109008.0         20964.0   \n",
            "37         Pacific                Oregon      11139.0          3337.0   \n",
            "28        Mountain                Nevada       7058.0           486.0   \n",
            "47         Pacific            Washington      16424.0          5880.0   \n",
            "32    Mid-Atlantic              New York      39827.0         52070.0   \n",
            "\n",
            "    state_pop     total     p_ind    ind_10k  \n",
            "8      701547    6904.0  0.546060  53.738381  \n",
            "11    1420593    6530.0  0.632619  29.079406  \n",
            "4    39461588  129972.0  0.838704  27.623825  \n",
            "37    4181886   14476.0  0.769481  26.636307  \n",
            "28    3027341    7544.0  0.935578  23.314189  \n",
            "47    7523869   22304.0  0.736370  21.829195  \n",
            "32   19530351   91897.0  0.433387  20.392363  \n"
          ]
        }
      ]
    },
    {
      "cell_type": "code",
      "source": [
        "result=highest_ind[['state','ind_10k']]\n",
        "print(result)"
      ],
      "metadata": {
        "colab": {
          "base_uri": "https://localhost:8080/"
        },
        "id": "muiFxTallROH",
        "outputId": "3de24e68-9960-4e35-8442-df6b9e72d147"
      },
      "execution_count": 44,
      "outputs": [
        {
          "output_type": "stream",
          "name": "stdout",
          "text": [
            "                   state    ind_10k\n",
            "8   District of Columbia  53.738381\n",
            "11                Hawaii  29.079406\n",
            "4             California  27.623825\n",
            "37                Oregon  26.636307\n",
            "28                Nevada  23.314189\n",
            "47            Washington  21.829195\n",
            "32              New York  20.392363\n"
          ]
        }
      ]
    },
    {
      "cell_type": "markdown",
      "source": [
        "So, 'District of Columbia' state has the highest number of homeless individuals per 10,000 people in the state."
      ],
      "metadata": {
        "id": "S4mrmOZ9md01"
      }
    }
  ]
}